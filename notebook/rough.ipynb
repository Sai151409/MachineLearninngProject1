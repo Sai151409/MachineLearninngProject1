{
 "cells": [
  {
   "cell_type": "code",
   "execution_count": 6,
   "metadata": {},
   "outputs": [],
   "source": [
    "from housing.entity.model_factor import ModelFactory\n",
    "from housing.entity.model_factor import *"
   ]
  },
  {
   "cell_type": "code",
   "execution_count": 7,
   "metadata": {},
   "outputs": [],
   "source": [
    "config = ModelFactory.read_parmas(file=r\"C:\\Users\\Asus\\ML_Projects\\Machine_Learning_Project_1\\config\\model.yaml\")"
   ]
  },
  {
   "cell_type": "code",
   "execution_count": 8,
   "metadata": {},
   "outputs": [
    {
     "data": {
      "text/plain": [
       "{'grid_search': {'class': 'GridSearchCV',\n",
       "  'module': 'sklearn.model_selection',\n",
       "  'params': {'cv': 5, 'verbose': 2}},\n",
       " 'model_selection': {'model_0': {'class': 'LinearRegression',\n",
       "   'module': 'sklearn.linear_model',\n",
       "   'params': {'fit_intercept': True},\n",
       "   'search_param_grid': {'fit_intercept': [True, False]}},\n",
       "  'model_1': {'class': 'RandomForestRegressor',\n",
       "   'module': 'sklearn.ensemble',\n",
       "   'params': {'min_sample_leaf': 3},\n",
       "   'search_param_grid': {'min_sample_leaf': 6}}}}"
      ]
     },
     "execution_count": 8,
     "metadata": {},
     "output_type": "execute_result"
    }
   ],
   "source": [
    "config"
   ]
  },
  {
   "cell_type": "code",
   "execution_count": 9,
   "metadata": {},
   "outputs": [],
   "source": [
    "model_config_info = config[GRID_SEARCH_KEY]\n",
    "grid_search_module : str = model_config_info[MODULE_KEY]\n",
    "grid_search_class : str =model_config_info[CLASS_KEY]\n",
    "grid_search_property_data : dict = model_config_info[PARAMS_KEY]\n",
    "models_initialization_config : dict = config[MODULE_SELECTION_KEY]"
   ]
  },
  {
   "cell_type": "code",
   "execution_count": 10,
   "metadata": {},
   "outputs": [
    {
     "data": {
      "text/plain": [
       "{'class': 'GridSearchCV',\n",
       " 'module': 'sklearn.model_selection',\n",
       " 'params': {'cv': 5, 'verbose': 2}}"
      ]
     },
     "execution_count": 10,
     "metadata": {},
     "output_type": "execute_result"
    }
   ],
   "source": [
    "model_config_info"
   ]
  },
  {
   "cell_type": "code",
   "execution_count": 11,
   "metadata": {},
   "outputs": [
    {
     "data": {
      "text/plain": [
       "'GridSearchCV'"
      ]
     },
     "execution_count": 11,
     "metadata": {},
     "output_type": "execute_result"
    }
   ],
   "source": [
    "grid_search_class"
   ]
  },
  {
   "cell_type": "code",
   "execution_count": 12,
   "metadata": {},
   "outputs": [
    {
     "data": {
      "text/plain": [
       "'sklearn.model_selection'"
      ]
     },
     "execution_count": 12,
     "metadata": {},
     "output_type": "execute_result"
    }
   ],
   "source": [
    "grid_search_module"
   ]
  },
  {
   "cell_type": "code",
   "execution_count": 13,
   "metadata": {},
   "outputs": [
    {
     "data": {
      "text/plain": [
       "{'cv': 5, 'verbose': 2}"
      ]
     },
     "execution_count": 13,
     "metadata": {},
     "output_type": "execute_result"
    }
   ],
   "source": [
    "grid_search_property_data"
   ]
  },
  {
   "cell_type": "code",
   "execution_count": 15,
   "metadata": {},
   "outputs": [
    {
     "data": {
      "text/plain": [
       "dict_keys(['model_0', 'model_1'])"
      ]
     },
     "execution_count": 15,
     "metadata": {},
     "output_type": "execute_result"
    }
   ],
   "source": [
    "models_initialization_config.keys()"
   ]
  },
  {
   "cell_type": "code",
   "execution_count": 19,
   "metadata": {},
   "outputs": [],
   "source": [
    "grid_search_cv_ref = ModelFactory.class_for_name(module_name = grid_search_module, class_name = grid_search_class)"
   ]
  },
  {
   "cell_type": "code",
   "execution_count": 1,
   "metadata": {},
   "outputs": [],
   "source": [
    "from housing.pipeline.pipeline import Pipeline"
   ]
  },
  {
   "cell_type": "code",
   "execution_count": 2,
   "metadata": {},
   "outputs": [],
   "source": [
    "from housing.config.configuration import Configuration"
   ]
  },
  {
   "cell_type": "code",
   "execution_count": 3,
   "metadata": {},
   "outputs": [
    {
     "data": {
      "text/plain": [
       "'c:\\\\Users\\\\Asus\\\\ML_Projects\\\\Machine_Learning_Project_1\\\\notebook'"
      ]
     },
     "execution_count": 3,
     "metadata": {},
     "output_type": "execute_result"
    }
   ],
   "source": [
    "import os\n",
    "\n",
    "os.getcwd()"
   ]
  },
  {
   "cell_type": "code",
   "execution_count": 4,
   "metadata": {},
   "outputs": [],
   "source": [
    "os.chdir(\"c:\\\\Users\\\\Asus\\\\ML_Projects\\\\Machine_Learning_Project_1\")"
   ]
  },
  {
   "cell_type": "code",
   "execution_count": 5,
   "metadata": {},
   "outputs": [
    {
     "data": {
      "text/plain": [
       "'c:\\\\Users\\\\Asus\\\\ML_Projects\\\\Machine_Learning_Project_1'"
      ]
     },
     "execution_count": 5,
     "metadata": {},
     "output_type": "execute_result"
    }
   ],
   "source": [
    "os.getcwd()"
   ]
  },
  {
   "cell_type": "code",
   "execution_count": 6,
   "metadata": {},
   "outputs": [],
   "source": [
    "config_file_path = os.path.join(os.getcwd(), \"config\", \"config.yaml\")"
   ]
  },
  {
   "cell_type": "code",
   "execution_count": 7,
   "metadata": {},
   "outputs": [
    {
     "data": {
      "text/plain": [
       "'c:\\\\Users\\\\Asus\\\\ML_Projects\\\\Machine_Learning_Project_1\\\\config\\\\config.yaml'"
      ]
     },
     "execution_count": 7,
     "metadata": {},
     "output_type": "execute_result"
    }
   ],
   "source": [
    "config_file_path"
   ]
  },
  {
   "cell_type": "code",
   "execution_count": 8,
   "metadata": {},
   "outputs": [],
   "source": [
    "config = Configuration(config_file_path=config_file_path)"
   ]
  },
  {
   "cell_type": "code",
   "execution_count": 9,
   "metadata": {},
   "outputs": [],
   "source": [
    "pipeline = Pipeline(config=config)"
   ]
  },
  {
   "cell_type": "code",
   "execution_count": 10,
   "metadata": {},
   "outputs": [
    {
     "data": {
      "text/plain": [
       "Experiment(experiment_id=None, initialization_timestamp=None, artifact_time_stamp=None, running_status=None, start_time=None, stop_time=None, execution_time=None, message=None, experiment_file_path=None, accuracy=None, is_model_accepted=None)"
      ]
     },
     "execution_count": 10,
     "metadata": {},
     "output_type": "execute_result"
    }
   ],
   "source": [
    "pipeline.experiment"
   ]
  },
  {
   "cell_type": "code",
   "execution_count": 11,
   "metadata": {},
   "outputs": [],
   "source": [
    "pipeline.start()"
   ]
  },
  {
   "cell_type": "code",
   "execution_count": 12,
   "metadata": {},
   "outputs": [
    {
     "data": {
      "text/plain": [
       "Experiment(experiment_id='8e5118b1-d7b1-4b67-86cf-24b47d532313', initialization_timestamp='2022-11-04-22-35-07', artifact_time_stamp='2022-11-04-22-35-07', running_status=True, start_time=datetime.datetime(2022, 11, 4, 22, 35, 14, 707691), stop_time=None, execution_time=None, message='Pipeline has been started', experiment_file_path='c:\\\\Users\\\\Asus\\\\ML_Projects\\\\Machine_Learning_Project_1\\\\notebook\\\\housing\\\\artifact\\\\experiment\\\\experiment.csv', accuracy=None, is_model_accepted=None)"
      ]
     },
     "execution_count": 12,
     "metadata": {},
     "output_type": "execute_result"
    },
    {
     "name": "stderr",
     "output_type": "stream",
     "text": [
      "Exception in thread pipeline:\n",
      "Traceback (most recent call last):\n",
      "  File \"c:\\users\\asus\\ml_projects\\machine_learning_project_1\\housing\\util\\util.py\", line 30, in read_yaml_file\n",
      "    with open(file_path, \"rb\") as yaml_file:\n",
      "FileNotFoundError: [Errno 2] No such file or directory: 'c:\\\\Users\\\\Asus\\\\ML_Projects\\\\Machine_Learning_Project_1\\\\notebook\\\\config\\\\schema.yaml'\n",
      "\n",
      "The above exception was the direct cause of the following exception:\n",
      "\n",
      "Traceback (most recent call last):\n",
      "  File \"c:\\users\\asus\\ml_projects\\machine_learning_project_1\\housing\\component\\data_validation.py\", line 71, in validate_dataset_schema\n",
      "    schema_file = read_yaml_file(self.data_validation_config.schema_file_path)\n",
      "  File \"c:\\users\\asus\\ml_projects\\machine_learning_project_1\\housing\\util\\util.py\", line 33, in read_yaml_file\n",
      "    raise HousingException(e, sys) from e\n",
      "housing.exception.HousingException: \n",
      "        Error has occured in script : [\n",
      "            c:\\users\\asus\\ml_projects\\machine_learning_project_1\\housing\\util\\util.py\n",
      "            ], \n",
      "        at try block line number : [30] and \n",
      "        except block line number : [33] \n",
      "        error message : [[Errno 2] No such file or directory: 'c:\\\\Users\\\\Asus\\\\ML_Projects\\\\Machine_Learning_Project_1\\\\notebook\\\\config\\\\schema.yaml']\n",
      "\n",
      "The above exception was the direct cause of the following exception:\n",
      "\n",
      "Traceback (most recent call last):\n",
      "  File \"c:\\users\\asus\\ml_projects\\machine_learning_project_1\\housing\\component\\data_validation.py\", line 139, in initiate_data_validation\n",
      "    self.validate_dataset_schema()\n",
      "  File \"c:\\users\\asus\\ml_projects\\machine_learning_project_1\\housing\\component\\data_validation.py\", line 93, in validate_dataset_schema\n",
      "    raise HousingException(e, sys) from e\n",
      "housing.exception.HousingException: \n",
      "        Error has occured in script : [\n",
      "            c:\\users\\asus\\ml_projects\\machine_learning_project_1\\housing\\component\\data_validation.py\n",
      "            ], \n",
      "        at try block line number : [71] and \n",
      "        except block line number : [93] \n",
      "        error message : [\n",
      "        Error has occured in script : [\n",
      "            c:\\users\\asus\\ml_projects\\machine_learning_project_1\\housing\\util\\util.py\n",
      "            ], \n",
      "        at try block line number : [30] and \n",
      "        except block line number : [33] \n",
      "        error message : [[Errno 2] No such file or directory: 'c:\\\\Users\\\\Asus\\\\ML_Projects\\\\Machine_Learning_Project_1\\\\notebook\\\\config\\\\schema.yaml']]\n",
      "\n",
      "The above exception was the direct cause of the following exception:\n",
      "\n",
      "Traceback (most recent call last):\n",
      "  File \"c:\\users\\asus\\ml_projects\\machine_learning_project_1\\housing\\pipeline\\pipeline.py\", line 52, in start_data_validation\n",
      "    return data_validation.initiate_data_validation()\n",
      "  File \"c:\\users\\asus\\ml_projects\\machine_learning_project_1\\housing\\component\\data_validation.py\", line 150, in initiate_data_validation\n",
      "    raise HousingException(e, sys) from e\n",
      "housing.exception.HousingException: \n",
      "        Error has occured in script : [\n",
      "            c:\\users\\asus\\ml_projects\\machine_learning_project_1\\housing\\component\\data_validation.py\n",
      "            ], \n",
      "        at try block line number : [139] and \n",
      "        except block line number : [150] \n",
      "        error message : [\n",
      "        Error has occured in script : [\n",
      "            c:\\users\\asus\\ml_projects\\machine_learning_project_1\\housing\\component\\data_validation.py\n",
      "            ], \n",
      "        at try block line number : [71] and \n",
      "        except block line number : [93] \n",
      "        error message : [\n",
      "        Error has occured in script : [\n",
      "            c:\\users\\asus\\ml_projects\\machine_learning_project_1\\housing\\util\\util.py\n",
      "            ], \n",
      "        at try block line number : [30] and \n",
      "        except block line number : [33] \n",
      "        error message : [[Errno 2] No such file or directory: 'c:\\\\Users\\\\Asus\\\\ML_Projects\\\\Machine_Learning_Project_1\\\\notebook\\\\config\\\\schema.yaml']]]\n",
      "\n",
      "The above exception was the direct cause of the following exception:\n",
      "\n",
      "Traceback (most recent call last):\n",
      "  File \"c:\\users\\asus\\ml_projects\\machine_learning_project_1\\housing\\pipeline\\pipeline.py\", line 124, in run_pipeline\n",
      "    data_validation_artifact = self.start_data_validation(data_ingestion_artifact=data_ingestion_artifact)\n",
      "  File \"c:\\users\\asus\\ml_projects\\machine_learning_project_1\\housing\\pipeline\\pipeline.py\", line 54, in start_data_validation\n",
      "    raise HousingException(e, sys) from e\n",
      "housing.exception.HousingException: \n",
      "        Error has occured in script : [\n",
      "            c:\\users\\asus\\ml_projects\\machine_learning_project_1\\housing\\pipeline\\pipeline.py\n",
      "            ], \n",
      "        at try block line number : [52] and \n",
      "        except block line number : [54] \n",
      "        error message : [\n",
      "        Error has occured in script : [\n",
      "            c:\\users\\asus\\ml_projects\\machine_learning_project_1\\housing\\component\\data_validation.py\n",
      "            ], \n",
      "        at try block line number : [139] and \n",
      "        except block line number : [150] \n",
      "        error message : [\n",
      "        Error has occured in script : [\n",
      "            c:\\users\\asus\\ml_projects\\machine_learning_project_1\\housing\\component\\data_validation.py\n",
      "            ], \n",
      "        at try block line number : [71] and \n",
      "        except block line number : [93] \n",
      "        error message : [\n",
      "        Error has occured in script : [\n",
      "            c:\\users\\asus\\ml_projects\\machine_learning_project_1\\housing\\util\\util.py\n",
      "            ], \n",
      "        at try block line number : [30] and \n",
      "        except block line number : [33] \n",
      "        error message : [[Errno 2] No such file or directory: 'c:\\\\Users\\\\Asus\\\\ML_Projects\\\\Machine_Learning_Project_1\\\\notebook\\\\config\\\\schema.yaml']]]]\n",
      "\n",
      "The above exception was the direct cause of the following exception:\n",
      "\n",
      "Traceback (most recent call last):\n",
      "  File \"c:\\Users\\Asus\\ML_Projects\\Machine_Learning_Project_1\\venv\\lib\\threading.py\", line 917, in _bootstrap_inner\n",
      "    self.run()\n",
      "  File \"c:\\users\\asus\\ml_projects\\machine_learning_project_1\\housing\\pipeline\\pipeline.py\", line 163, in run\n",
      "    raise e\n",
      "  File \"c:\\users\\asus\\ml_projects\\machine_learning_project_1\\housing\\pipeline\\pipeline.py\", line 161, in run\n",
      "    self.run_pipeline()\n",
      "  File \"c:\\users\\asus\\ml_projects\\machine_learning_project_1\\housing\\pipeline\\pipeline.py\", line 157, in run_pipeline\n",
      "    raise HousingException(e, sys) from e\n",
      "housing.exception.HousingException: \n",
      "        Error has occured in script : [\n",
      "            c:\\users\\asus\\ml_projects\\machine_learning_project_1\\housing\\pipeline\\pipeline.py\n",
      "            ], \n",
      "        at try block line number : [124] and \n",
      "        except block line number : [157] \n",
      "        error message : [\n",
      "        Error has occured in script : [\n",
      "            c:\\users\\asus\\ml_projects\\machine_learning_project_1\\housing\\pipeline\\pipeline.py\n",
      "            ], \n",
      "        at try block line number : [52] and \n",
      "        except block line number : [54] \n",
      "        error message : [\n",
      "        Error has occured in script : [\n",
      "            c:\\users\\asus\\ml_projects\\machine_learning_project_1\\housing\\component\\data_validation.py\n",
      "            ], \n",
      "        at try block line number : [139] and \n",
      "        except block line number : [150] \n",
      "        error message : [\n",
      "        Error has occured in script : [\n",
      "            c:\\users\\asus\\ml_projects\\machine_learning_project_1\\housing\\component\\data_validation.py\n",
      "            ], \n",
      "        at try block line number : [71] and \n",
      "        except block line number : [93] \n",
      "        error message : [\n",
      "        Error has occured in script : [\n",
      "            c:\\users\\asus\\ml_projects\\machine_learning_project_1\\housing\\util\\util.py\n",
      "            ], \n",
      "        at try block line number : [30] and \n",
      "        except block line number : [33] \n",
      "        error message : [[Errno 2] No such file or directory: 'c:\\\\Users\\\\Asus\\\\ML_Projects\\\\Machine_Learning_Project_1\\\\notebook\\\\config\\\\schema.yaml']]]]]\n",
      "\n"
     ]
    }
   ],
   "source": [
    "Pipeline.experiment"
   ]
  },
  {
   "cell_type": "code",
   "execution_count": 13,
   "metadata": {},
   "outputs": [],
   "source": [
    "pipeline1 = Pipeline(config=config)"
   ]
  },
  {
   "cell_type": "code",
   "execution_count": 14,
   "metadata": {},
   "outputs": [],
   "source": [
    "pipeline1.start()"
   ]
  },
  {
   "cell_type": "code",
   "execution_count": 15,
   "metadata": {},
   "outputs": [
    {
     "data": {
      "text/plain": [
       "Experiment(experiment_id='8e5118b1-d7b1-4b67-86cf-24b47d532313', initialization_timestamp='2022-11-04-22-35-07', artifact_time_stamp='2022-11-04-22-35-07', running_status=True, start_time=datetime.datetime(2022, 11, 4, 22, 35, 14, 707691), stop_time=None, execution_time=None, message='Pipeline has been started', experiment_file_path='c:\\\\Users\\\\Asus\\\\ML_Projects\\\\Machine_Learning_Project_1\\\\notebook\\\\housing\\\\artifact\\\\experiment\\\\experiment.csv', accuracy=None, is_model_accepted=None)"
      ]
     },
     "execution_count": 15,
     "metadata": {},
     "output_type": "execute_result"
    }
   ],
   "source": [
    "pipeline1.experiment"
   ]
  },
  {
   "cell_type": "code",
   "execution_count": null,
   "metadata": {},
   "outputs": [],
   "source": []
  }
 ],
 "metadata": {
  "kernelspec": {
   "display_name": "Python 3.7.0 (conda)",
   "language": "python",
   "name": "python3"
  },
  "language_info": {
   "codemirror_mode": {
    "name": "ipython",
    "version": 3
   },
   "file_extension": ".py",
   "mimetype": "text/x-python",
   "name": "python",
   "nbconvert_exporter": "python",
   "pygments_lexer": "ipython3",
   "version": "3.7.0"
  },
  "orig_nbformat": 4,
  "vscode": {
   "interpreter": {
    "hash": "ca1796ac03f87a8035fd4f8b893998f66452fd8d0c0958932bc88cb93c337545"
   }
  }
 },
 "nbformat": 4,
 "nbformat_minor": 2
}
